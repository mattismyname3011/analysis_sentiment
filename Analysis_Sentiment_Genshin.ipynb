{
  "nbformat": 4,
  "nbformat_minor": 0,
  "metadata": {
    "colab": {
      "provenance": [],
      "authorship_tag": "ABX9TyOBqZdGNFn0xwhm9rr4QAHs",
      "include_colab_link": true
    },
    "kernelspec": {
      "name": "python3",
      "display_name": "Python 3"
    },
    "language_info": {
      "name": "python"
    }
  },
  "cells": [
    {
      "cell_type": "markdown",
      "metadata": {
        "id": "view-in-github",
        "colab_type": "text"
      },
      "source": [
        "<a href=\"https://colab.research.google.com/github/mattismyname3011/analysis_sentiment/blob/main/Analysis_Sentiment_Genshin.ipynb\" target=\"_parent\"><img src=\"https://colab.research.google.com/assets/colab-badge.svg\" alt=\"Open In Colab\"/></a>"
      ]
    },
    {
      "cell_type": "code",
      "execution_count": 10,
      "metadata": {
        "id": "IfIvQBO5Lg-G"
      },
      "outputs": [],
      "source": [
        "# !pip install app_store_scraper\n",
        "# !pip install google_play_scraper\n",
        "\n",
        "from google.colab import drive\n",
        "from google_play_scraper import app, Sort, reviews_all\n",
        "from app_store_scraper import AppStore\n",
        "\n",
        "import pandas as pd\n",
        "import numpy as np\n",
        "import json, os, uuid\n",
        "# drive.mount('/content/gdrive')"
      ]
    },
    {
      "cell_type": "code",
      "source": [
        "g_reviews = reviews_all(\n",
        "        \"com.miHoYo.GenshinImpact\",\n",
        "        sleep_milliseconds=0, # defaults to 0\n",
        "        lang='id', # defaults to 'en'\n",
        "        country='id', # defaults to 'us'\n",
        "        sort=Sort.NEWEST, # defaults to Sort.MOST_RELEVANT\n",
        "    )\n",
        "\n",
        "g_df = pd.DataFrame(np.array(g_reviews),columns=['review'])\n",
        "g_df2 = g_df.join(pd.DataFrame(g_df.pop('review').tolist()))\n",
        "\n",
        "g_df2.drop(columns={'userImage', 'reviewCreatedVersion'},inplace = True)\n",
        "g_df2.rename(columns= {'score': 'rating','userName': 'user_name', 'reviewId': 'review_id', 'content': 'review_description', 'at': 'review_date', 'replyContent': 'developer_response', 'repliedAt': 'developer_response_date', 'thumbsUpCount': 'thumbs_up'},inplace = True)\n",
        "g_df2.insert(loc=0, column='source', value='Google Play')\n",
        "g_df2.insert(loc=3, column='review_title', value=None)\n",
        "g_df2['laguage_code'] = 'en'\n",
        "g_df2['country_code'] = 'us'\n",
        "result = g_df2\n",
        "print(result)"
      ],
      "metadata": {
        "colab": {
          "base_uri": "https://localhost:8080/"
        },
        "id": "EfnaA8G7OH2u",
        "outputId": "2830efe2-bf62-4c80-c055-8e06e798acfc"
      },
      "execution_count": 11,
      "outputs": [
        {
          "output_type": "stream",
          "name": "stdout",
          "text": [
            "             source                             review_id  \\\n",
            "0       Google Play  d8e5f80b-69d6-4697-8dcb-20d22f057b46   \n",
            "1       Google Play  35839410-ffa5-4b84-8c83-cd4a17c7d357   \n",
            "2       Google Play  3a97f249-ce02-48d6-abc9-5c90357414c6   \n",
            "3       Google Play  2c38e5d4-e143-4f43-abc6-b60dfa3451a5   \n",
            "4       Google Play  97bd0bce-0b48-434d-876b-5f3797b2ff95   \n",
            "...             ...                                   ...   \n",
            "174175  Google Play  23cd0247-8802-4d55-b46a-6993c4852a36   \n",
            "174176  Google Play  119af6ce-01bb-47e7-b9ab-45cafc0c40a5   \n",
            "174177  Google Play  fcfd1ba4-47bb-4b48-ac55-348e3940f3a6   \n",
            "174178  Google Play  fe007972-d9a6-4b15-aa22-fff75dae0b28   \n",
            "174179  Google Play  3d1a5d0b-bf7d-420d-98e4-94ca46288de8   \n",
            "\n",
            "                     user_name review_title  \\\n",
            "0                    Aria Abdi         None   \n",
            "1              Raffi Rizqullah         None   \n",
            "2                 Aditia Akday         None   \n",
            "3       Ivano Dwindrataftazani         None   \n",
            "4                   Diva Audia         None   \n",
            "...                        ...          ...   \n",
            "174175                  MHasan         None   \n",
            "174176          Ramato Ayurigo         None   \n",
            "174177   Fisko Aritmatika Yuri         None   \n",
            "174178           Fahriza Yudha         None   \n",
            "174179               Rian 7440         None   \n",
            "\n",
            "                                       review_description  rating  thumbs_up  \\\n",
            "0                           Keren uy waifunya wangy wangy       5          0   \n",
            "1       Wow game nya sangat bagus alur cerita nya mena...       5          0   \n",
            "2       Kepada deplover Genshin Impact, untuk Overall ...       4         34   \n",
            "3                                      Happy 1st birthday       5          0   \n",
            "4       Tolong batas poin perabotan di tea pot ditamba...       5          0   \n",
            "...                                                   ...     ...        ...   \n",
            "174175  Saya sangat menantikan game ini, semoga saya b...       5          1   \n",
            "174176  Wah gamenya bagus banget Udh open world grafik...       5          2   \n",
            "174177                                             Xixixi       5          1   \n",
            "174178                                                Owh       5          1   \n",
            "174179                                          Niceeeeer       5          3   \n",
            "\n",
            "               review_date developer_response developer_response_date  \\\n",
            "0      2022-12-29 07:56:19               None                     NaT   \n",
            "1      2022-12-29 07:34:15               None                     NaT   \n",
            "2      2022-12-29 07:14:19               None                     NaT   \n",
            "3      2022-12-29 07:10:51               None                     NaT   \n",
            "4      2022-12-29 07:02:45               None                     NaT   \n",
            "...                    ...                ...                     ...   \n",
            "174175 2020-09-27 04:18:03               None                     NaT   \n",
            "174176 2020-09-27 04:15:15               None                     NaT   \n",
            "174177 2020-09-27 04:14:24               None                     NaT   \n",
            "174178 2020-09-27 04:13:32               None                     NaT   \n",
            "174179 2020-09-27 04:12:45               None                     NaT   \n",
            "\n",
            "       laguage_code country_code  \n",
            "0                en           us  \n",
            "1                en           us  \n",
            "2                en           us  \n",
            "3                en           us  \n",
            "4                en           us  \n",
            "...             ...          ...  \n",
            "174175           en           us  \n",
            "174176           en           us  \n",
            "174177           en           us  \n",
            "174178           en           us  \n",
            "174179           en           us  \n",
            "\n",
            "[174180 rows x 12 columns]\n"
          ]
        }
      ]
    },
    {
      "cell_type": "code",
      "source": [
        "g_df2.to_csv('genshin_reviews.csv')"
      ],
      "metadata": {
        "id": "CRVf98ugPANj"
      },
      "execution_count": 12,
      "outputs": []
    }
  ]
}